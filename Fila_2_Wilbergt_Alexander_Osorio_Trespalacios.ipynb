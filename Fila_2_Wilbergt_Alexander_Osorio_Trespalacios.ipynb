{
  "nbformat": 4,
  "nbformat_minor": 0,
  "metadata": {
    "colab": {
      "provenance": [],
      "authorship_tag": "ABX9TyMuCmTPnUVDPYGP8oOiY88V",
      "include_colab_link": true
    },
    "kernelspec": {
      "name": "python3",
      "display_name": "Python 3"
    },
    "language_info": {
      "name": "python"
    }
  },
  "cells": [
    {
      "cell_type": "markdown",
      "metadata": {
        "id": "view-in-github",
        "colab_type": "text"
      },
      "source": [
        "<a href=\"https://colab.research.google.com/github/AlexanderOsorio-dev/Matematicas-discretas-2025-2/blob/main/Fila_2_Wilbergt_Alexander_Osorio_Trespalacios.ipynb\" target=\"_parent\"><img src=\"https://colab.research.google.com/assets/colab-badge.svg\" alt=\"Open In Colab\"/></a>"
      ]
    },
    {
      "cell_type": "code",
      "source": [
        "#Wilbergt Alexander Osorio Trespalacios 1022144281\n",
        "\n",
        "import sympy as sp\n",
        "from sympy.abc import x, y\n",
        "\n",
        "#Fila 2\n",
        "#∀x ∀y (xlog(y) >= 2**y)\n",
        "\n",
        "\n",
        "domain_x = range(-1000, 1000) # Simulando todos los reales\n",
        "domain_y = range(1, 1000) # Simulando todos los reales desde el 1 que es la definicion del logaritmo en base 10\n",
        "\n",
        "def nested_quantifier1(predicate, domain_x, domain_y):\n",
        "    for i in domain_x:\n",
        "        found = False\n",
        "        for j in domain_y:\n",
        "            if not predicate(i, j):\n",
        "                print(f\"x = {i}, y = {j}, P(x, y) = {predicate(i, j)}\")\n",
        "                found = False\n",
        "                break\n",
        "        if not found:\n",
        "            return False\n",
        "    return True\n",
        "\n",
        "P1 = lambda x, y: x*sp.log(y) >= 2**y\n",
        "\n",
        "print(\"\\nFor the first problem with the row 2, the full expression: ∀x ∀y (x*sp.log(y) in higher or equal for 2**y) is:\", nested_quantifier1(P1, domain_x, domain_y), '\\n')\n",
        "\n",
        "#Fila 2\n",
        "# ∀n ∃m m**2 >= n\n",
        "\n",
        "domain_n = range(-1000, 1000) # Enteros\n",
        "domain_m = range(-1000, 1000) # Enteros\n",
        "\n",
        "def nested_quantifier2(predicate, domain_x, domain_y):\n",
        "    for i in domain_n:\n",
        "        found = False\n",
        "        for j in domain_m:\n",
        "            if predicate(i, j):\n",
        "                #print(f\"n = {i}, m = {j}, P(n, m) = {predicate(i, j)}\")\n",
        "                found = True\n",
        "                break\n",
        "        if not found:\n",
        "            return False\n",
        "    return True\n",
        "\n",
        "P2 = lambda n, m: m**2 >= n\n",
        "\n",
        "print(\"\\nFor the second problem with the row 2, the full expression: ∀n ∃m m**2 >= n is:\", nested_quantifier2(P2, domain_n, domain_m))\n",
        "\n"
      ],
      "metadata": {
        "id": "KKjIsZ4fxIWQ",
        "collapsed": true,
        "colab": {
          "base_uri": "https://localhost:8080/"
        },
        "outputId": "c97ca94f-a8c9-4892-e908-76c6d4f26ca1"
      },
      "execution_count": 27,
      "outputs": [
        {
          "output_type": "stream",
          "name": "stdout",
          "text": [
            "x = -1000, y = 1, P(x, y) = False\n",
            "\n",
            "For the first problem with the row 2, the full expression: ∀x ∀y (x*sp.log(y) in higher or equal for 2**y) is: False \n",
            "\n",
            "\n",
            "For the second problem with the row 2, the full expression: ∀n ∃m m**2 >= n is: True\n"
          ]
        }
      ]
    }
  ]
}